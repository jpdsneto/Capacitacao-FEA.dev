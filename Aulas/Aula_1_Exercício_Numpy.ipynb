{
 "cells": [
  {
   "cell_type": "markdown",
   "id": "b9e06d5a",
   "metadata": {},
   "source": [
    "<div align='center'><a href='https://linktr.ee/fea.dev'/ style='display:inline-block'><img src=\"data:image/png;base64,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\" height=\"50%\" width=\"200\" ><a/><div/>"
   ]
  },
  {
   "cell_type": "markdown",
   "id": "6fc76f14",
   "metadata": {},
   "source": [
    "# <font color=blue|blue|red>Exercício Prático: Numpy e Matplotlib </font>\n",
    "---"
   ]
  },
  {
   "cell_type": "markdown",
   "id": "d2909a94",
   "metadata": {},
   "source": [
    "**Importe a biblioteca Numpy**"
   ]
  },
  {
   "cell_type": "code",
   "execution_count": 19,
   "id": "087eda41",
   "metadata": {
    "scrolled": true
   },
   "outputs": [],
   "source": [
    "import numpy as np"
   ]
  },
  {
   "cell_type": "markdown",
   "id": "114c71f0",
   "metadata": {},
   "source": [
    "**Vamos trabalhar com duas listas contendo o PIB de países aleatórios entre 2020 e 2022**"
   ]
  },
  {
   "cell_type": "code",
   "execution_count": 3,
   "id": "bbfc9d99",
   "metadata": {},
   "outputs": [],
   "source": [
    "# Assuma as listas\n",
    "ano1 = [20893, 14722, 5057, 3846, 2764, 2664, 2630, 1888, 1644, 1637, 1483, 1444, 1423, 1281, 1073, 1058]\n",
    "ano2 = [25346, 19911, 4912, 4256, 3376, 3534, 2936, 2058, 2221, 1804, 1829, 1833, 1784, 1435, 1322, 1289]"
   ]
  },
  {
   "cell_type": "markdown",
   "id": "93f25856",
   "metadata": {},
   "source": [
    "**Para calcular a taxa de crescimento de cada país devemos dividir cada elemento do ano 2 por seu correspondente no ano 1, porém não é possível fazer isso com uma lista convencional do Python, devemos transformar essas variáveis em arrays do Numpy**"
   ]
  },
  {
   "cell_type": "code",
   "execution_count": 4,
   "id": "a0d79789",
   "metadata": {},
   "outputs": [
    {
     "name": "stdout",
     "output_type": "stream",
     "text": [
      "[1.21313359 1.3524657  0.97132687 1.10660426 1.22141823 1.32657658\n",
      " 1.11634981 1.09004237 1.35097324 1.10201588 1.23331086 1.26939058\n",
      " 1.25368939 1.12021858 1.23205965 1.21833648]\n"
     ]
    }
   ],
   "source": [
    "# Criando Arrays\n",
    "ano1_np = np.array(ano1)\n",
    "ano2_np = np.array(ano2)\n",
    "\n",
    "# Calculando a taxa de crescimento\n",
    "growth = ano2_np / ano1_np\n",
    "\n",
    "# Printando a variável\n",
    "print(growth)"
   ]
  },
  {
   "cell_type": "markdown",
   "id": "d027c2c4",
   "metadata": {},
   "source": [
    "**Note que as taxas estão na forma (1+taxa), logo para ver o crescimento percentual devemos subtrair 1 de todos os termos**"
   ]
  },
  {
   "cell_type": "code",
   "execution_count": 5,
   "id": "5b15fe5f",
   "metadata": {},
   "outputs": [
    {
     "name": "stdout",
     "output_type": "stream",
     "text": [
      "[ 0.21313359  0.3524657  -0.02867313  0.10660426  0.22141823  0.32657658\n",
      "  0.11634981  0.09004237  0.35097324  0.10201588  0.23331086  0.26939058\n",
      "  0.25368939  0.12021858  0.23205965  0.21833648]\n"
     ]
    }
   ],
   "source": [
    "# Subtraindo 1 de todos os termos do array\n",
    "rate = growth - 1\n",
    "print(rate)"
   ]
  },
  {
   "cell_type": "markdown",
   "id": "817b0cef",
   "metadata": {},
   "source": [
    "**Podemos ver a média das taxas utilizando o método mean**"
   ]
  },
  {
   "cell_type": "code",
   "execution_count": 6,
   "id": "592fdf00",
   "metadata": {},
   "outputs": [
    {
     "name": "stdout",
     "output_type": "stream",
     "text": [
      "média: 0.20\n"
     ]
    }
   ],
   "source": [
    "mean = np.mean(rate)\n",
    "print(f'média: {mean:.2f}')"
   ]
  },
  {
   "cell_type": "markdown",
   "id": "9aec6d89",
   "metadata": {},
   "source": [
    "**Agora que temos os dados podemos visualiza-los graficamente através da biblioteca matplotlib**"
   ]
  },
  {
   "cell_type": "code",
   "execution_count": 7,
   "id": "96d3e30c",
   "metadata": {},
   "outputs": [],
   "source": [
    "import matplotlib.pyplot as plt"
   ]
  },
  {
   "cell_type": "markdown",
   "id": "7f3cc986",
   "metadata": {},
   "source": [
    "**Podemos visualizar esses dados através de um gráfico como um histograma**"
   ]
  },
  {
   "cell_type": "code",
   "execution_count": 8,
   "id": "520188e9",
   "metadata": {},
   "outputs": [
    {
     "data": {
      "image/png": "[encoded data removed]",
      "text/plain": [
       "<Figure size 432x288 with 1 Axes>"
      ]
     },
     "metadata": {
      "needs_background": "light"
     },
     "output_type": "display_data"
    }
   ],
   "source": [
    "plt.hist(rate)\n",
    "plt.show()"
   ]
  },
  {
   "cell_type": "markdown",
   "id": "1b83000a",
   "metadata": {},
   "source": [
    "**Podemos melhorar esse gráfico ao adicionar algumas informações adicionais**"
   ]
  },
  {
   "cell_type": "code",
   "execution_count": 18,
   "id": "28be0887",
   "metadata": {},
   "outputs": [
    {
     "data": {
      "image/png": "[encoded data removed]",
      "text/plain": [
       "<Figure size 432x288 with 1 Axes>"
      ]
     },
     "metadata": {
      "needs_background": "light"
     },
     "output_type": "display_data"
    }
   ],
   "source": [
    "plt.hist(rate, bins=4, color='#B22222', rwidth = 0.9)\n",
    "\n",
    "plt.xlabel('Growth Rate')\n",
    "plt.ylabel('Frequency')\n",
    "\n",
    "plt.yticks([0, 2, 4, 6])\n",
    "plt.xticks([-0.05, 0, 0.10, 0.2, 0.3])\n",
    "\n",
    "plt.show()"
   ]
  },
  {
   "cell_type": "code",
   "execution_count": 1,
   "id": "2f9e6e0c",
   "metadata": {},
   "outputs": [
    {
     "name": "stdout",
     "output_type": "stream",
     "text": [
      "Testando alteração/colaboração em um código clonado do github\n"
     ]
    }
   ],
   "source": [
    "print(\"Testando alteração/colaboração em um código clonado do github\")"
   ]
  }
 ],
 "metadata": {
  "kernelspec": {
   "display_name": "Python 3 (ipykernel)",
   "language": "python",
   "name": "python3"
  },
  "language_info": {
   "codemirror_mode": {
    "name": "ipython",
    "version": 3
   },
   "file_extension": ".py",
   "mimetype": "text/x-python",
   "name": "python",
   "nbconvert_exporter": "python",
   "pygments_lexer": "ipython3",
   "version": "3.11.5"
  }
 },
 "nbformat": 4,
 "nbformat_minor": 5
}
